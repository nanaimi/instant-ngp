{
 "cells": [
  {
   "cell_type": "code",
   "execution_count": 1,
   "id": "9b6bc32b-a025-4fd2-98db-cfcc6808cda3",
   "metadata": {},
   "outputs": [],
   "source": [
    "import argparse\n",
    "import os\n",
    "\n",
    "import numpy as np\n",
    "\n",
    "import shutil\n",
    "import time\n",
    "\n",
    "from tqdm import tqdm\n",
    "\n",
    "import wandb\n",
    "\n",
    "import sys\n",
    "import time\n",
    "\n",
    "import cv2\n",
    "import json\n",
    "\n",
    "util_path = '/cluster/home/jpostels/nnaimi/instant-ngp/scripts'\n",
    "sys.path.append(util_path)\n",
    "\n",
    "from common import *\n",
    "from scenes import *\n",
    "\n",
    "pyngp_path = '/cluster/home/jpostels/nnaimi/instant-ngp/build'\n",
    "sys.path.append(pyngp_path)\n",
    "\n",
    "import pyngp as ngp # noqa"
   ]
  },
  {
   "cell_type": "code",
   "execution_count": 2,
   "id": "7b811c68-1cf6-477e-906a-d41bc5c7627a",
   "metadata": {},
   "outputs": [],
   "source": [
    "## PATHS\n",
    "DATASET_PATH= '/cluster/work/cvl/jpostels/nnaimi/data'\n",
    "OUTPUT_PATH= '/cluster/work/cvl/jpostels/nnaimi/output'\n",
    "CONFIG_PATH= '/cluster/home/jpostels/nnaimi/instant-ngp/configs/image'"
   ]
  },
  {
   "cell_type": "code",
   "execution_count": 3,
   "id": "aefa676e-c832-4a38-ba95-bb1b1a7cb0f0",
   "metadata": {},
   "outputs": [],
   "source": [
    "name = 'kodim11'\n",
    "train = True\n",
    "n_steps=50000\n",
    "width=768\n",
    "height=512\n",
    "screenshot_spp=1\n",
    "log_imgs=True\n",
    "log_freq=1000\n",
    "scene = DATASET_PATH + '/KODAK/kodim11.png'\n",
    "network = CONFIG_PATH + '/notebook.json'\n",
    "screenshot_dir = OUTPUT_PATH\n",
    "save_snapshot = OUTPUT_PATH\n",
    "load_snapshot=\"\"\n",
    "\n",
    "wandb_tags = [\"exploration\", \"varying-scaling-parameter-2\"]"
   ]
  },
  {
   "cell_type": "code",
   "execution_count": 4,
   "id": "7511a2b9-54f1-4980-8658-83fb40c0f0c6",
   "metadata": {},
   "outputs": [],
   "source": [
    "def get_scene(scene):\n",
    "    for scenes in [scenes_sdf, scenes_nerf, scenes_image, scenes_volume]:\n",
    "        if scene in scenes:\n",
    "            return scenes[scene]\n",
    "    return None"
   ]
  },
  {
   "cell_type": "code",
   "execution_count": 5,
   "id": "a7c7c73b-23ae-4c3f-be96-0f8c9060cc87",
   "metadata": {},
   "outputs": [],
   "source": [
    "!printenv | grep ROOT_DIR"
   ]
  },
  {
   "cell_type": "code",
   "execution_count": 6,
   "id": "d7fadf8f-de71-443f-9922-a4beed4e4c1e",
   "metadata": {},
   "outputs": [
    {
     "name": "stdout",
     "output_type": "stream",
     "text": [
      "\u001b[0m18:47:24 \u001b[0;32mSUCCESS  \u001b[0mInitialized CUDA. Active GPU is #0: NVIDIA GeForce RTX 3090 [86]\u001b[K\u001b[0m\n"
     ]
    }
   ],
   "source": [
    "testbed = ngp.Testbed()\n",
    "testbed.root_dir = ROOT_DIR\n",
    "\n",
    "# Open config JSON file and load its contents into a dictionary\n",
    "with open(network, 'r') as json_file:\n",
    "    config = json.load(json_file)"
   ]
  },
  {
   "cell_type": "code",
   "execution_count": 7,
   "id": "41b40bc5-86a9-473c-8119-b25aaea892c4",
   "metadata": {},
   "outputs": [
    {
     "name": "stdout",
     "output_type": "stream",
     "text": [
      "image is srgb\n",
      "Groundtruth shape:  (512, 768, 3)\n",
      "18:47:24 \u001b[0;36mINFO     \u001b[0mLoading STBI image from /cluster/work/cvl/jpostels/nnaimi/data/KODAK/kodim11.png\u001b[K\u001b[0m\n",
      "18:47:24 \u001b[0;32mSUCCESS  \u001b[0mLoaded a full-precision image with 768x512 pixels.\u001b[K\u001b[0m\n",
      "18:47:24 \u001b[0;36mINFO     \u001b[0mLoading network config from: /cluster/home/jpostels/nnaimi/instant-ngp/configs/image/notebook.json\u001b[K\u001b[0m\n",
      "18:47:24 \u001b[0;36mINFO     \u001b[0mGridEncoding:  Nmin=64 b=1.2 F=2 T=2^12 L=4\u001b[K\u001b[0m\n",
      "18:47:24 \u001b[0;36mINFO     \u001b[0mModel:         2--[HashGrid]-->16--[FullyFusedMLP(neurons=64,layers=4)]-->3\u001b[K\u001b[0m\n",
      "18:47:24 \u001b[0;36mINFO     \u001b[0m  total_encoding_params=32768 total_network_params=6144\u001b[K\u001b[0m\n"
     ]
    },
    {
     "name": "stderr",
     "output_type": "stream",
     "text": [
      "Failed to detect the name of this notebook, you can set it manually with the WANDB_NOTEBOOK_NAME environment variable to enable code saving.\n",
      "\u001b[34m\u001b[1mwandb\u001b[0m: Currently logged in as: \u001b[33mnasibnaimi\u001b[0m (use `wandb login --relogin` to force relogin)\n",
      "\u001b[34m\u001b[1mwandb\u001b[0m: wandb version 0.15.5 is available!  To upgrade, please run:\n",
      "\u001b[34m\u001b[1mwandb\u001b[0m:  $ pip install wandb --upgrade\n"
     ]
    },
    {
     "data": {
      "text/html": [
       "\n",
       "                    Syncing run <strong><a href=\"https://wandb.ai/nasibnaimi/instantNGP-4-compression/runs/3po58391\" target=\"_blank\">kodim11</a></strong> to <a href=\"https://wandb.ai/nasibnaimi/instantNGP-4-compression\" target=\"_blank\">Weights & Biases</a> (<a href=\"https://docs.wandb.com/integrations/jupyter.html\" target=\"_blank\">docs</a>).<br/>\n",
       "\n",
       "                "
      ],
      "text/plain": [
       "<IPython.core.display.HTML object>"
      ]
     },
     "metadata": {},
     "output_type": "display_data"
    },
    {
     "name": "stderr",
     "output_type": "stream",
     "text": [
      "Training: 100%|█████████▉| 49923/50000 [01:51<00:00, 448.16steps/s, loss=0.00147]\n"
     ]
    },
    {
     "name": "stdout",
     "output_type": "stream",
     "text": [
      "18:50:25 \u001b[0;32mSUCCESS  \u001b[0mSaved snapshot '/cluster/work/cvl/jpostels/nnaimi/output/kodim11-20230719-185025.ingp'\u001b[K\u001b[0m\n",
      "Rendering /cluster/work/cvl/jpostels/nnaimi/output/kodim11_notebook.png\n"
     ]
    },
    {
     "data": {
      "text/html": [
       "<br/>Waiting for W&B process to finish, PID 62562... <strong style=\"color:green\">(success).</strong>"
      ],
      "text/plain": [
       "<IPython.core.display.HTML object>"
      ]
     },
     "metadata": {},
     "output_type": "display_data"
    },
    {
     "data": {
      "application/vnd.jupyter.widget-view+json": {
       "model_id": "",
       "version_major": 2,
       "version_minor": 0
      },
      "text/plain": [
       "VBox(children=(Label(value=' 54.81MB of 54.81MB uploaded (0.00MB deduped)\\r'), FloatProgress(value=1.0, max=1.…"
      ]
     },
     "metadata": {},
     "output_type": "display_data"
    },
    {
     "data": {
      "text/html": [
       "<style>\n",
       "    table.wandb td:nth-child(1) { padding: 0 10px; text-align: right }\n",
       "    .wandb-row { display: flex; flex-direction: row; flex-wrap: wrap; width: 100% }\n",
       "    .wandb-col { display: flex; flex-direction: column; flex-basis: 100%; flex: 1; padding: 10px; }\n",
       "    </style>\n",
       "<div class=\"wandb-row\"><div class=\"wandb-col\">\n",
       "<h3>Run history:</h3><br/><table class=\"wandb\"><tr><td>elapsed_time</td><td>▁▁▁▁▂▂▂▂▂▃▃▃▃▃▃▄▄▄▄▄▅▅▅▅▅▅▆▆▆▆▆▆▇▇▇▇▇███</td></tr><tr><td>loss</td><td>█▅▄▄▃▃▃▃▂▂▂▂▂▂▂▂▂▁▁▁▁▁▁▁▁▁▁▁▁▁▁▁▁▁▁▁▁▁▁▁</td></tr><tr><td>psnr</td><td>▁▄▅▅▆▆▆▆▇▇▇▇▇▇▇▇▇███████████████████████</td></tr><tr><td>res_mean</td><td>▄▆▄▆▃▇▂▇▇▆▇▁▆▄▄█▆▅▇▅▆▅▆▅▅▆▅▅▅▅▄▅▅▅▅▅▅▅▅▅</td></tr><tr><td>res_mean_b</td><td>▁</td></tr><tr><td>res_mean_g</td><td>▁</td></tr><tr><td>res_mean_r</td><td>▁</td></tr><tr><td>training_step</td><td>▁▁▁▁▂▂▂▂▂▃▃▃▃▃▃▄▄▄▄▄▅▅▅▅▅▅▆▆▆▆▆▆▇▇▇▇▇███</td></tr></table><br/></div><div class=\"wandb-col\">\n",
       "<h3>Run summary:</h3><br/><table class=\"wandb\"><tr><td>elapsed_time</td><td>111.43723</td></tr><tr><td>loss</td><td>-2.8347</td></tr><tr><td>psnr</td><td>28.34702</td></tr><tr><td>res_mean</td><td>0.00146</td></tr><tr><td>res_mean_b</td><td>0.00137</td></tr><tr><td>res_mean_g</td><td>0.00149</td></tr><tr><td>res_mean_r</td><td>0.00153</td></tr><tr><td>training_step</td><td>50000</td></tr></table>\n",
       "</div></div>\n",
       "Synced 5 W&B file(s), 100 media file(s), 0 artifact file(s) and 0 other file(s)\n",
       "<br/>Synced <strong style=\"color:#cdcd00\">kodim11</strong>: <a href=\"https://wandb.ai/nasibnaimi/instantNGP-4-compression/runs/3po58391\" target=\"_blank\">https://wandb.ai/nasibnaimi/instantNGP-4-compression/runs/3po58391</a><br/>\n",
       "Find logs at: <code>/cluster/work/cvl/jpostels/nnaimi/wandb/wandb/run-20230719_184825-3po58391/logs</code><br/>\n"
      ],
      "text/plain": [
       "<IPython.core.display.HTML object>"
      ]
     },
     "metadata": {},
     "output_type": "display_data"
    }
   ],
   "source": [
    "# Load the PNG image (converts the image from srgb to linear np array)\n",
    "groundtruth = read_image(scene)\n",
    "print(\"Groundtruth shape: \", groundtruth.shape)\n",
    "\n",
    "if scene:\n",
    "    scene_info = get_scene(scene)\n",
    "    if scene_info is not None:\n",
    "        scene = os.path.join(scene_info[\"data_dir\"], scene_info[\"dataset\"])\n",
    "        if not network and \"network\" in scene_info:\n",
    "            network = scene_info[\"network\"]\n",
    "\n",
    "    testbed.load_training_data(scene)\n",
    "\n",
    "if load_snapshot:\n",
    "    scene_info = get_scene(load_snapshot)\n",
    "    if scene_info is not None:\n",
    "        load_snapshot = default_snapshot_filename(scene_info)\n",
    "    testbed.load_snapshot(load_snapshot)\n",
    "elif network:\n",
    "    testbed.reload_network_from_file(network)\n",
    "\n",
    "testbed.shall_train = train\n",
    "\n",
    "config[\"logging_frequency\"] = log_freq\n",
    "config[\"logging_images\"] = log_imgs\n",
    "config[\"name\"] = name\n",
    "config[\"n_enc_params\"] = testbed.n_encoding_params()\n",
    "config[\"n_mlp_params\"] = testbed.n_params() - testbed.n_encoding_params()\n",
    "config[\"n_params\"] = testbed.n_params()\n",
    "\n",
    "wandb.init(\n",
    "    project=\"instantNGP-4-Compression\",\n",
    "    name=name,\n",
    "    dir=\"/cluster/work/cvl/jpostels/nnaimi/wandb\",\n",
    "    config=config,\n",
    "    tags=wandb_tags\n",
    ")\n",
    "\n",
    "network_stem = os.path.splitext(os.path.basename(network))[0] if network else \"base\"\n",
    "\n",
    "old_training_step = 0\n",
    "tqdm_last_update = 0\n",
    "start = time.monotonic_ns()\n",
    "log_dict = {}\n",
    "\n",
    "if n_steps > 0:\n",
    "    with tqdm(desc=\"Training\", total=n_steps, unit=\"steps\") as t:\n",
    "\n",
    "        while testbed.frame():\n",
    "            if testbed.want_repl():\n",
    "                repl(testbed)\n",
    "\n",
    "            # What will happen when training is done?\n",
    "            if testbed.training_step >= n_steps:\n",
    "                break\n",
    "\n",
    "            # Update progress bar\n",
    "            if testbed.training_step < old_training_step or old_training_step == 0:\n",
    "                old_training_step = 0\n",
    "                t.reset()\n",
    "\n",
    "            # logging\n",
    "            if not testbed.training_step % log_freq:\n",
    "                psnr = -10.0 * np.log(testbed.loss) / np.log(10.0)\n",
    "                elapsed_time = (time.monotonic_ns() - start) * 1e-9\n",
    "\n",
    "                if log_imgs and screenshot_dir:\n",
    "                    # log images and training info\n",
    "                    outname = os.path.join(screenshot_dir, scene + \"_\" + network_stem)\n",
    "                    image = testbed.render(width or 1920, height or 1080, screenshot_spp, True)\n",
    "\n",
    "\n",
    "                    assert image[:,:,:3].shape == groundtruth.shape, \"image and groundtruth shapes not equal\" \n",
    "                    residual = groundtruth - image[:,:,:3]\n",
    "                    res_mean = np.mean(residual)\n",
    "\n",
    "                    if os.path.dirname(outname) != \"\":\n",
    "                        os.makedirs(os.path.dirname(outname), exist_ok=True)\n",
    "\n",
    "                    write_image(outname + \".png\", image)\n",
    "\n",
    "                    image = linear_to_srgb(image) \n",
    "                    residual = linear_to_srgb(residual)\n",
    "\n",
    "                    log_dict = {\"loss\": np.log(testbed.loss) / np.log(10.0), \n",
    "                                \"training_step\": testbed.training_step, \n",
    "                                \"psnr\": psnr,\n",
    "                                \"elapsed_time\": elapsed_time,\n",
    "                                \"encoded_image\": wandb.Image(image),\n",
    "                                \"residual\": wandb.Image(residual),\n",
    "                                \"res_mean\": res_mean}\n",
    "                else:\n",
    "                    # log training info only\n",
    "                    log_dict = {\"loss\": np.log(testbed.loss) / np.log(10.0), \n",
    "                                \"training_step\": testbed.training_step, \n",
    "                                \"psnr\": psnr,\n",
    "                                \"elapsed_time\": elapsed_time}\n",
    "\n",
    "                # WandB logging\n",
    "                wandb.log(log_dict)\n",
    "\n",
    "            # update tqdm\n",
    "            now = time.monotonic()\n",
    "            if now - tqdm_last_update > 0.1:\n",
    "                t.update(testbed.training_step - old_training_step)\n",
    "                t.set_postfix(loss=testbed.loss)\n",
    "                old_training_step = testbed.training_step\n",
    "                tqdm_last_update = now\n",
    "\n",
    "# Total training time\n",
    "elapsed_time = (time.monotonic_ns() - start) * 1e-9\t\n",
    "\n",
    "if save_snapshot:\n",
    "    outfilename = os.path.splitext(os.path.split(scene)[1])[0] + \"-\" + time.strftime(\"%Y%m%d-%H%M%S\")\n",
    "    testbed.save_snapshot(save_snapshot + \"/\" + outfilename + \".ingp\", False)\n",
    "\n",
    "image = None\n",
    "if screenshot_dir:\n",
    "    outfilename = os.path.splitext(os.path.split(scene)[1])[0]\n",
    "    outname = os.path.join(screenshot_dir, outfilename + \"_\" + network_stem)\n",
    "    print(f\"Rendering {outname}.png\")\n",
    "    image = testbed.render(width or 1920, height or 1080, screenshot_spp, True)\n",
    "    if os.path.dirname(outname) != \"\":\n",
    "        os.makedirs(os.path.dirname(outname), exist_ok=True)\n",
    "    write_image(outname + \".png\", image)\n",
    "\n",
    "residual = groundtruth - image[:, :, :3]\n",
    "\n",
    "res_mean = np.mean(residual)\n",
    "\n",
    "res_mean_r = np.mean(residual[:,:,0])\n",
    "res_mean_g = np.mean(residual[:,:,1])\n",
    "res_mean_b = np.mean(residual[:,:,2])\n",
    "\n",
    "image = linear_to_srgb(image)\n",
    "residual = linear_to_srgb(residual)\n",
    "\n",
    "psnr = -10.0 * np.log(testbed.loss) / np.log(10.0)\n",
    "\n",
    "wandb.log({\"loss\": np.log(testbed.loss) / np.log(10.0),\n",
    "            \"psnr\": psnr,\n",
    "            \"training_step\": testbed.training_step, \n",
    "            \"elapsed_time\": elapsed_time,\n",
    "            \"encoded_image\": wandb.Image(image),\n",
    "            \"residual\": wandb.Image(residual),\n",
    "            \"res_mean\": res_mean,\n",
    "            \"res_mean_r\": res_mean_r,\n",
    "            \"res_mean_g\": res_mean_g,\n",
    "            \"res_mean_b\": res_mean_b\n",
    "            })\n",
    "\n",
    "wandb.finish()"
   ]
  },
  {
   "cell_type": "code",
   "execution_count": null,
   "id": "eba36fa6-8940-4827-b2cc-abdd763c006b",
   "metadata": {},
   "outputs": [],
   "source": []
  }
 ],
 "metadata": {
  "kernelspec": {
   "display_name": "Python 3 (ipykernel)",
   "language": "python",
   "name": "python3"
  },
  "language_info": {
   "codemirror_mode": {
    "name": "ipython",
    "version": 3
   },
   "file_extension": ".py",
   "mimetype": "text/x-python",
   "name": "python",
   "nbconvert_exporter": "python",
   "pygments_lexer": "ipython3",
   "version": "3.9.9"
  }
 },
 "nbformat": 4,
 "nbformat_minor": 5
}
