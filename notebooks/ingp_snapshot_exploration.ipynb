{
 "cells": [
  {
   "cell_type": "code",
   "execution_count": 3,
   "id": "d5512af7-7812-4176-bc0f-3371f8d54d1b",
   "metadata": {},
   "outputs": [
    {
     "name": "stdout",
     "output_type": "stream",
     "text": [
      "VIRTUAL_ENV=/cluster/home/jpostels/nnaimi/ingp-env\n",
      "Python 3.9.9\n"
     ]
    }
   ],
   "source": [
    "# check correct modules and virtual environment\n",
    "!printenv | grep VIRTUAL_ENV\n",
    "!python --version"
   ]
  },
  {
   "cell_type": "code",
   "execution_count": 4,
   "id": "85d956a1-bad3-490c-994c-64c63b2fefc5",
   "metadata": {},
   "outputs": [],
   "source": [
    "import sys\n",
    "import os\n",
    "import time\n",
    "import numpy as np\n",
    "import math\n",
    "\n",
    "pyngp_path = '/cluster/home/jpostels/nnaimi/instant-ngp/build'\n",
    "sys.path.append(pyngp_path)\n",
    "sys.path.append(os.path.abspath(\"/cluster/home/jpostels/nnaimi/instant-ngp/scripts\"))\n",
    "import pyngp as ngp\n",
    "from scenes import *"
   ]
  },
  {
   "cell_type": "code",
   "execution_count": 5,
   "id": "ad76cf15-8ca3-4c60-92fc-ba436157881c",
   "metadata": {},
   "outputs": [],
   "source": [
    "def scaling_parameter(N_max, N_min):\n",
    "    return math.exp((math.log(N_max)-math.log(N_min)) / (L-1)) \n",
    "\n",
    "def encoding_parameter_calculator(L, F, T, N_min, N_max=None, b=None):\n",
    "    sum = 0\n",
    "    if b is None and N_max is not None:\n",
    "        b = scaling_parameter(N_max, N_min)\n",
    "    elif b is None and N_max is None:\n",
    "        assert False, \"One of either b or N_max has not been provided\"\n",
    "        \n",
    "    print(\"scaling param: \", b)\n",
    "    print(\"# of levels: \", L)\n",
    "    \n",
    "    for l in range(L):\n",
    "        grid_res = math.floor(N_min*(b**l))\n",
    "        grid_size = grid_res**2\n",
    "        sum += min(grid_size, T) * F\n",
    "    return sum\n",
    "\n",
    "def get_list_of_grid_resolutions(N_min, b, L):\n",
    "    return [int(np.floor(N_min*(b ** l))) for l in range(L)]"
   ]
  },
  {
   "cell_type": "markdown",
   "id": "2048b7a0-7cbd-4ca7-969f-c160f1e5254b",
   "metadata": {},
   "source": [
    "# Exploratoration on ingp parameters and there effect on PSNR"
   ]
  },
  {
   "cell_type": "markdown",
   "id": "ebd8a646-bf34-468d-9e5f-e0df3b83321a",
   "metadata": {},
   "source": [
    "### What do we want to do?"
   ]
  },
  {
   "cell_type": "markdown",
   "id": "1be79081-436a-4910-b254-00ae165913aa",
   "metadata": {},
   "source": [
    "Goal is to understand how the psnr is affected by the choice of parameters and the allocation thereof"
   ]
  },
  {
   "cell_type": "markdown",
   "id": "e58dac67-6005-4bb3-868e-2604ca7bdf40",
   "metadata": {},
   "source": [
    "### How do we do this?"
   ]
  },
  {
   "cell_type": "markdown",
   "id": "547b357a-9031-4255-a85c-ea59303c500a",
   "metadata": {},
   "source": [
    "We will design the following experiments:\n",
    "1) Varying the hyperparameters in such a way to keep the total number of parameters constant and analysing the effect of the allocation of parameters on the PSNR\n",
    "2) Scaling down the total number of parameters to understand the trade-off between reducing the number of parameters for different hyperparameter allocations"
   ]
  },
  {
   "cell_type": "markdown",
   "id": "c39c70b0-d522-4878-8c31-ec8909913745",
   "metadata": {},
   "source": [
    "#### Experiment ONE:\n",
    "1) Determine the total amount of degrees of freedom in the image of choice for the study\n",
    "2) Let the total number of parameters (Encoding + MLP) be the number specified by the degrees of freedom for the image of choice that we are performing our studies on (CxHxW)\n",
    "3) Assign different hyperparameter allocations to understand the tradeoff between the hyperparameters\n",
    "4) Scatter plot for psnr and various parameter choice"
   ]
  },
  {
   "cell_type": "markdown",
   "id": "3e7af7fc-9dc9-467a-aba4-2f8c35b62222",
   "metadata": {},
   "source": [
    "#### Experiment TWO:\n",
    "1) Determine the total amount of degrees of freedom in the image of choice for the study\n",
    "2) Scale down the total number of trainable parameters by factor 2 each time.\n",
    "3) For each scaled down number of total trainable parameters, assign different hyperparameter variations that add up to the same number of parameters.\n",
    "4) scatter plots"
   ]
  },
  {
   "cell_type": "markdown",
   "id": "274c65ea-2679-4f74-bf02-1d46712fbd6f",
   "metadata": {},
   "source": [
    "### Total Number of DoF for KODAK image 11"
   ]
  },
  {
   "cell_type": "markdown",
   "id": "2d141ee0-79b3-43fb-a730-08ba7b3b22c3",
   "metadata": {},
   "source": [
    "$$512\\times768\\times3 = 1'179'648 \\text{Bytes}$$ "
   ]
  },
  {
   "cell_type": "markdown",
   "id": "8fefca79-97c6-4195-9bf1-474a6a756174",
   "metadata": {},
   "source": [
    "We keep the collision resolving MLP ($m(y,\\phi)$) fixed with $n_{hidden}=2$, $n_{neurons}=64$ and vary only the hyper parameters of the neural encoding; $T, L, N_{min}, F, b$. We define the parameters as\n",
    "$$ T := \\text{hash-table size} \\newline L := \\text{# Resolution Levels} \\newline N_{min} := \\text{Coarsest Resolution} \\newline F := \\text{feature vector size} \\newline b := \\text{scaling parameter} = \\exp ( \\frac{\\ln N_{max}- \\ln N_{min}}{L-1}) $$\n",
    "\n",
    "Note: We can either choose to select the min and max resolution, $N_{min}$ and $N_{max}$, or we can choose to select $N_{min}$ and $b$\n",
    "\n",
    "The total number of encoding parameters is given by \n",
    "$$\\text{# encoding params} = F \\times \\sum_{l=0}^{L-1} \\min((N_{min}b^{l})^2, T)$$\n",
    "\n",
    "Example: $L=2, F=2, T=2^18, N_{min}=64, b=2$\n",
    "$$\\text{# encoding params} = 2 \\sum_{l=0}^{L-1} \\min((N_{min}b^{l})^2, T) = 2 \\sum_{l=0}^{1} \\min((64 \\times 2^{l})^2, 2^18) = 2 \\times (64^2 + 128^2) = 40'960$$ \n",
    "\n"
   ]
  },
  {
   "cell_type": "markdown",
   "id": "b4108da3-f9f3-44c5-85c2-4f0eac1770d3",
   "metadata": {},
   "source": [
    "### Parameter Choices for experiment ONE and Result"
   ]
  },
  {
   "cell_type": "markdown",
   "id": "a5738a05-41d8-402b-9afe-1048c700d6bb",
   "metadata": {},
   "source": [
    "| TOTAL | $$L$$ | $$F$$ | $$T$$ | $$N_{min}$$ | $$N_{max}$$ | $$b$$ | PSNR |\n",
    "|---|:-:|:-:|:-:|:-:|:-:|:-:|:-:|\n",
    "| 1′048′576 | 1 | 2 | $2^{19}$ | $2^{18}$ | $2^{18}$ | 2 | 17.966 |\n",
    "| 1′048′576 | 2 | 2 | $2^{18}$ | $2^{17}$ | $2^{18}$ | 2 | 18.202 |\n",
    "| 1′048′576 | 4 | 2 | $2^{17}$ | $2^{15}$ | $2^{18}$ | 2 | 24.335 |\n",
    "| 1′048′576 | 8 | 2 | $2^{16}$ | $2^{11}$ | $2^{18}$ | 2 | 37.015 |\n",
    "| 1′048′576 | 16 | 2 | $2^{15}$ | $2^{8}$ | $2^{23}$ | 2 | 40.996 |\n",
    "| 1′048′576 | 32 | 2 | $2^{14}$ | $2^{7}$ | $2^{38}$ | 2 | 8.138 |\n",
    "| 1′048′576 | 64 | 2 | $2^{13}$ | $2^{7}$ | $2^{70}$ | 2 | 8.139 |"
   ]
  },
  {
   "cell_type": "markdown",
   "id": "40b17386-3d1e-445c-8754-a6af53fa51c8",
   "metadata": {},
   "source": [
    "### Parameter Choices for experiment TWO and Result"
   ]
  },
  {
   "cell_type": "markdown",
   "id": "79040c1b-7538-4686-9ed7-bb8f82e40a06",
   "metadata": {},
   "source": [
    "#### n_total: 524'288\n",
    "| TOTAL | $$L$$ | $$F$$ | $$T$$ | $$N_{min}$$ | $$N_{max}$$ | $$b$$ | PSNR |\n",
    "|---|:-:|:-:|:-:|:-:|:-:|:-:|:-:|\n",
    "| 524'288 | 1 | 2 | $2^{18}$ | $2^{9}$ | $2^{9}$ | 2 | 39.886 |\n",
    "| 524'288 | 2 | 2 | $2^{17}$ | $2^{9}$ | $2^{10}$ | 2 | 33.317 |\n",
    "| 524'288 | 4 | 2 | $2^{16}$ | $2^{8}$ | $2^{11}$ | 2 | 45.996 |\n",
    "| 524'288 | 8 | 2 | $2^{15}$ | $2^{8}$ | $2^{15}$ | 2 | 39.967 |\n",
    "| 524'288 | 16 | 2 | $2^{14}$ | $2^{7}$ | $2^{22}$ | 2 | 39.561 |\n",
    "| 524'288 | 32 | 2 | $2^{13}$ | $2^{7}$ | $2^{38}$ | 2 | 8.138 |\n",
    "\n",
    "#### n_total: 262'144\n",
    "| TOTAL | $$L$$ | $$F$$ | $$T$$ | $$N_{min}$$ | $$N_{max}$$ | $$b$$ | PSNR |\n",
    "|---|:-:|:-:|:-:|:-:|:-:|:-:|:-:|\n",
    "| 262'144 | 1 | 2 | $2^{17}$ | $2^{9}$ | $2^{9}$ | 2 | 24.496 |\n",
    "| 262'144 | 2 | 2 | $2^{16}$ | $2^{8}$ | $2^{9}$ | 2 | 35.351 |\n",
    "| 262'144 | 4 | 2 | $2^{15}$ | $2^{8}$ | $2^{11}$ | 2 | 28.755 |\n",
    "| 262'144 | 8 | 2 | $2^{14}$ | $2^{7}$ | $2^{14}$ | 2 | 37.492 |\n",
    "| 262'144 | 16 | 2 | $2^{13}$ | $2^{7}$ | $2^{22}$ | 2 | 31.689 |\n",
    "\n",
    "#### n_total: 131'072\n",
    "| TOTAL | $$L$$ | $$F$$ | $$T$$ | $$N_{min}$$ | $$N_{max}$$ | $$b$$ | PSNR |\n",
    "|---|:-:|:-:|:-:|:-:|:-:|:-:|:-:|\n",
    "| 131'072 | 1 | 2 | $2^{16}$ | $2^{8}$ | $2^{8}$ | 2 | 30.819 |\n",
    "| 131'072 | 2 | 2 | $2^{15}$ | $2^{8}$ | $2^{9}$ | 2 | 24.092 |\n",
    "| 131'072 | 4 | 2 | $2^{14}$ | $2^{7}$ | $2^{10}$ | 2 | 33.487 |\n",
    "| 131'072 | 8 | 2 | $2^{13}$ | $2^{7}$ | $2^{14}$ | 2 | 30.454 |\n",
    "| 131'072 | 16 | 2 | $2^{12}$ | $2^{6}$ | $2^{21}$ | 2 | 34.43 |\n",
    "\n",
    "#### n_total: 65'536\n",
    "| TOTAL | $$L$$ | $$F$$ | $$T$$ | $$N_{min}$$ | $$N_{max}$$ | $$b$$ | PSNR |\n",
    "|---|:-:|:-:|:-:|:-:|:-:|:-:|:-:|\n",
    "| 65'536 | 1 | 2 | $2^{15}$ | $2^{8}$ | $2^{8}$ | 2 | 22.369 |\n",
    "| 65'536 | 2 | 2 | $2^{14}$ | $2^{7}$ | $2^{8}$ | 2 | 28.965 |\n",
    "| 65'536 | 4 | 2 | $2^{13}$ | $2^{7}$ | $2^{10}$ | 2 | 24.616 |\n",
    "| 65'536 | 8 | 2 | $2^{12}$ | $2^{6}$ | $2^{13}$ | 2 | 29.867 |\n",
    "| 65'536 | 16 | 2 | $2^{11}$ | $2^{6}$ | $2^{21}$ | 2 | 27.348 |\n",
    "\n",
    "#### n_total: 32'768\n",
    "| TOTAL | $$L$$ | $$F$$ | $$T$$ | $$N_{min}$$ | $$N_{max}$$ | $$b$$ | PSNR |\n",
    "|---|:-:|:-:|:-:|:-:|:-:|:-:|:-:|\n",
    "| 32'768 | 1 | 2 | $2^{14}$ | $2^{7}$ | $2^{7}$ | 2 | 26.457 |\n",
    "| 32'768 | 2 | 2 | $2^{13}$ | $2^{7}$ | $2^{8}$ | 2 | 22.469 |\n",
    "| 32'768 | 4 | 2 | $2^{12}$ | $2^{6}$ | $2^{9}$ | 2 | 28.341 |\n",
    "| 32'768 | 8 | 2 | $2^{11}$ | $2^{6}$ | $2^{13}$ | 2 | 25.527 |\n",
    "| 32'768 | 16 | 2 | $2^{10}$ | $2^{5}$ | $2^{14}$ | 2 | 26.81 |\n",
    "\n",
    "#### n_total: 16'384\n",
    "| TOTAL | $$L$$ | $$F$$ | $$T$$ | $$N_{min}$$ | $$N_{max}$$ | $$b$$ | PSNR |\n",
    "|---|:-:|:-:|:-:|:-:|:-:|:-:|:-:|\n",
    "| 16'384 | 1 | 2 | $2^{13}$ | $2^{7}$ | $2^{7}$ | 2 | 20.944 |\n",
    "| 16'384 | 2 | 2 | $2^{12}$ | $2^{6}$ | $2^{7}$ | 2 | 25.744 |\n",
    "| 16'384 | 4 | 2 | $2^{11}$ | $2^{6}$ | $2^{9}$ | 2 | 22.933 |\n",
    "| 16'384 | 8 | 2 | $2^{10}$ | $2^{5}$ | $2^{12}$ | 2 | 26.247 |\n",
    "| 16'384 | 16 | 2 | $2^{9}$ | $2^{5}$ | $2^{20}$ | 2 | 25.108 |\n",
    "\n",
    "#### n_total: 8'192\n",
    "| TOTAL | $$L$$ | $$F$$ | $$T$$ | $$N_{min}$$ | $$N_{max}$$ | $$b$$ | PSNR |\n",
    "|---|:-:|:-:|:-:|:-:|:-:|:-:|:-:|\n",
    "| 8'192 | 1 | 2 | $2^{12}$ | $2^{6}$ | $2^{6}$ | 2 | 24.258 |\n",
    "| 8'192 | 2 | 2 | $2^{11}$ | $2^{6}$ | $2^{7}$ | 2 | 21.483 |\n",
    "| 8'192 | 4 | 2 | $2^{10}$ | $2^{5}$ | $2^{8}$ | 2 | 25.457 |\n",
    "| 8'192 | 8 | 2 | $2^{9}$ | $2^{5}$ | $2^{12}$ | 2 | 23.465 |\n",
    "| 8'192 | 16 | 2 | $2^{8}$ | $2^{4}$ | $2^{19}$ | 2 | 24.756 |\n",
    "\n",
    "#### n_total: 4'096\n",
    "| TOTAL | $$L$$ | $$F$$ | $$T$$ | $$N_{min}$$ | $$N_{max}$$ | $$b$$ | PSNR |\n",
    "|---|:-:|:-:|:-:|:-:|:-:|:-:|:-:|\n",
    "| 4'096 | 1 | 2 | $2^{11}$ | $2^{6}$ | $2^{6}$ | 2 | 19.818 |\n",
    "| 4'096 | 2 | 2 | $2^{10}$ | $2^{5}$ | $2^{6}$ | 2 | 23.923 |\n",
    "| 4'096 | 4 | 2 | $2^{9}$ | $2^{5}$ | $2^{8}$ | 2 | 21.656 |\n",
    "| 4'096 | 8 | 2 | $2^{8}$ | $2^{4}$ | $2^{11}$ | 2 | 24.337 |\n",
    "| 4'096 | 16 | 2 | $2^{7}$ | $2^{4}$ | $2^{19}$ | 2 | 23.841 |\n",
    "\n"
   ]
  },
  {
   "cell_type": "code",
   "execution_count": 34,
   "id": "7565034e-56ac-4ef1-84cb-4ae6ce7399b3",
   "metadata": {},
   "outputs": [
    {
     "name": "stdout",
     "output_type": "stream",
     "text": [
      "scaling param:  1.9\n",
      "# of levels:  8\n",
      "Total Enc Params:  2510\n",
      "Target #  Params:  4096\n",
      "False\n"
     ]
    }
   ],
   "source": [
    "L=8\n",
    "F=2\n",
    "T=2**8\n",
    "N_min=2**1\n",
    "N_max=None\n",
    "b=1.9\n",
    "target=2**12\n",
    "\n",
    "grid_res = get_list_of_grid_resolutions(N_min=N_min, b=b, L=L)\n",
    "\n",
    "n_enc_params = encoding_parameter_calculator(L=L, F=F, T=T, N_min=N_min, b=b, N_max=N_max)\n",
    "\n",
    "print(\"Total Enc Params: \", n_enc_params)\n",
    "\n",
    "print(\"Target #  Params: \", target)\n",
    "\n",
    "print(n_enc_params == target)"
   ]
  },
  {
   "cell_type": "markdown",
   "id": "7b135a73-620b-4f3e-bf35-c6e8a45428d3",
   "metadata": {},
   "source": [
    "#### scaling the hash table size: n starting --> table with n_params = 4'096\n",
    "\n",
    "| TOTAL | $$L$$ | $$F$$ | $$T$$ | $$N_{min}$$ | $$N_{max}$$ | $$b$$ | PSNR |\n",
    "|---|:-:|:-:|:-:|:-:|:-:|:-:|:-:|\n",
    "| 4'096  | 8 | 2 | $2^{8}$ | $2^{4}$ | $2^{11}$ | 2 | 24.337 |\n",
    "| 7'680  | 8 | 2 | $2^{9}$ | $2^{4}$ | $2^{11}$ | 2 | 25.293 |\n",
    "| 14'848 | 8 | 2 | $2^{10}$ | $2^{4}$ | $2^{11}$ | 2 | 26.68 |\n",
    "| 27'136 | 8 | 2 | $2^{11}$ | $2^{4}$ | $2^{11}$ | 2 | 28.084 |\n",
    "| 51'712 | 8 | 2 | $2^{12}$ | $2^{4}$ | $2^{11}$ | 2 | 30.513 |\n",
    "| 92'672 | 8 | 2 | $2^{13}$ | $2^{4}$ | $2^{11}$ | 2 | 33.082 |\n",
    "| 174'592 | 8 | 2 | $2^{14}$ | $2^{4}$ | $2^{11}$ | 2 | 37.35 |\n",
    "| 305'664 | 8 | 2 | $2^{15}$ | $2^{4}$ | $2^{11}$ | 2 | 43.196 |\n",
    "| 567'808 | 8 | 2 | $2^{16}$ | $2^{4}$ | $2^{11}$ | 2 | 49.696 |\n"
   ]
  },
  {
   "cell_type": "markdown",
   "id": "91820e36-3c48-49b9-90f4-4e00a0b05523",
   "metadata": {},
   "source": [
    "#### varying min resolution: n starting --> table with n_params = 4'096\n",
    "\n",
    "| TOTAL | $$L$$ | $$F$$ | $$T$$ | $$N_{min}$$ | $$N_{max}$$ | $$b$$ | PSNR |\n",
    "|---|:-:|:-:|:-:|:-:|:-:|:-:|:-:|\n",
    "| 4'096 | 8 | 2 | $2^{8}$ | $2^{6}$ | $2^{11}$ | 2 | 21.557 |\n",
    "| 4'096 | 8 | 2 | $2^{8}$ | $2^{5}$ | $2^{11}$ | 2 | 21.916 |\n",
    "| 4'096 | 8 | 2 | $2^{8}$ | $2^{4}$ | $2^{11}$ | 2 | 24.366 |\n",
    "| 3'712 | 8 | 2 | $2^{8}$ | $2^{3}$ | $2^{11}$ | 2 | 24.748 |\n",
    "| 3'232 | 8 | 2 | $2^{8}$ | $2^{2}$ | $2^{11}$ | 2 | 24.781 |\n",
    "| 2'728 | 8 | 2 | $2^{8}$ | $2^{1}$ | $2^{11}$ | 2 | 24.802 |\n",
    "| 2'218 | 8 | 2 | $2^{8}$ | $2^{0}$ | $2^{11}$ | 2 | 24.523 |"
   ]
  },
  {
   "cell_type": "markdown",
   "id": "7dab4bdf-65af-4cbc-bc4b-336ba4e3db81",
   "metadata": {},
   "source": [
    "#### varying scaling parameter: n starting --> table with n_params = 4'096\n",
    "\n",
    "| TOTAL | $$L$$ | $$F$$ | $$T$$ | $$N_{min}$$ | $$N_{max}$$ | $$b$$ | PSNR |\n",
    "|---|:-:|:-:|:-:|:-:|:-:|:-:|:-:|\n",
    "| 2'728 | 8 | 2 | $2^{8}$ | $2^{1}$ | $2^{XX}$ | 2 | 24.802 |\n",
    "| 2'624 | 8 | 2 | $2^{8}$ | $2^{1}$ | $2*1.9^{XX}$ | 1.9 | 24.825 |\n",
    "| 2'496 | 8 | 2 | $2^{8}$ | $2^{1}$ | $2*1.8^{XX}$ | 1.8 | 24.77 |\n",
    "| 2'078 | 8 | 2 | $2^{8}$ | $2^{1}$ | $2*1.6^{XX}$ | 1.6 | 24.609 |\n",
    "| 1'568 | 8 | 2 | $2^{8}$ | $2^{1}$ | $2*1.4^{XX}$ | 1.4 | 24.129 |\n",
    "\n",
    "\n",
    "#### varying scaling parameter: n starting --> table with n_params = 4'096\n",
    "\n",
    "| TOTAL | $$L$$ | $$F$$ | $$T$$ | $$N_{min}$$ | $$N_{max}$$ | $$b$$ | PSNR |\n",
    "|---|:-:|:-:|:-:|:-:|:-:|:-:|:-:|\n",
    "| 32'768 | 4 | 2 | $2^{12}$ | $2^{6}$ | $2^{9}$ | 2 | 28.341 |\n",
    "| 32'768 | 4 | 2 | $2^{12}$ | $2^{6}$ | $2^{9}$ | 1.8 | 28.399 |\n",
    "| 32'768 | 4 | 2 | $2^{12}$ | $2^{6}$ | $2^{9}$ | 1.6 | 28.614 |\n",
    "| 32'768 | 4 | 2 | $2^{12}$ | $2^{6}$ | $2^{9}$ | 1.4 | 28.613 |\n",
    "| 32'768 | 4 | 2 | $2^{12}$ | $2^{6}$ | $2^{9}$ | 1.2 | 28.347 |"
   ]
  },
  {
   "cell_type": "code",
   "execution_count": 5,
   "id": "701e993a-e858-4d12-a54b-ef942c356993",
   "metadata": {},
   "outputs": [],
   "source": [
    "# !ls /cluster/work/cvl/jpostels/nnaimi/output"
   ]
  },
  {
   "cell_type": "code",
   "execution_count": 6,
   "id": "dfeb8778-7b40-49a7-96c8-65f011f70075",
   "metadata": {},
   "outputs": [],
   "source": [
    "def get_scene(scene):\n",
    "    for scenes in [scenes_sdf, scenes_nerf, scenes_image, scenes_volume]:\n",
    "        if scene in scenes:\n",
    "            return scenes[scene]\n",
    "    return None"
   ]
  },
  {
   "cell_type": "code",
   "execution_count": 7,
   "id": "bff9aef8-1e52-4e0d-8e15-c5b550cf4926",
   "metadata": {},
   "outputs": [
    {
     "name": "stdout",
     "output_type": "stream",
     "text": [
      "\u001b[0m23:07:33 \u001b[0;32mSUCCESS  \u001b[0mInitialized CUDA. Active GPU is #0: NVIDIA GeForce RTX 3090 [86]\u001b[K\u001b[0m\n"
     ]
    }
   ],
   "source": [
    "testbed = ngp.Testbed()"
   ]
  },
  {
   "cell_type": "code",
   "execution_count": 8,
   "id": "e0313a51-7e3a-456f-8d37-9edf90909bd5",
   "metadata": {},
   "outputs": [
    {
     "name": "stdout",
     "output_type": "stream",
     "text": [
      "/cluster/work/cvl/jpostels/nnaimi/output/kodim11-20230718-113930.ingp\n"
     ]
    }
   ],
   "source": [
    "snapshot = '/cluster/work/cvl/jpostels/nnaimi/output/kodim11-20230718-113930.ingp'\n",
    "print(snapshot)"
   ]
  },
  {
   "cell_type": "code",
   "execution_count": 9,
   "id": "1654c5df-7c65-4ff4-bd54-d5a079c92978",
   "metadata": {},
   "outputs": [
    {
     "name": "stdout",
     "output_type": "stream",
     "text": [
      "23:07:33 \u001b[0;36mINFO     \u001b[0mLoading network snapshot from: /cluster/work/cvl/jpostels/nnaimi/output/kodim11-20230718-113930.ingp\u001b[K\u001b[0m\n",
      "23:07:33 \u001b[0;36mINFO     \u001b[0mGridEncoding:  Nmin=32768 b=2 F=2 T=2^17 L=4\u001b[K\u001b[0m\n",
      "23:07:33 \u001b[0;36mINFO     \u001b[0mModel:         2--[HashGrid]-->16--[FullyFusedMLP(neurons=64,layers=4)]-->3\u001b[K\u001b[0m\n",
      "23:07:33 \u001b[0;36mINFO     \u001b[0m  total_encoding_params=1048576 total_network_params=6144\u001b[K\u001b[0m\n",
      "1054720\n",
      "Grid Resolutions per Level (before saturation):  [64, 256]\n",
      "Entries in hash table per resolution:  [131072, 131072]\n",
      "Total Encoding parameters according to formula:  524288\n"
     ]
    }
   ],
   "source": [
    "scene_info = get_scene(snapshot)\n",
    "testbed.load_snapshot(snapshot)\n",
    "time.sleep(0.2)\n",
    "\n",
    "print(testbed.n_params())\n",
    "level_params = [testbed.n_encoding_level_params(l) for l in range(2)]\n",
    "\n",
    "print(\"Grid Resolutions per Level (before saturation): \", get_list_of_grid_resolutions(64, 4, 2))\n",
    "print(\"Entries in hash table per resolution: \", level_params)\n",
    "print(\"Total Encoding parameters according to formula: \", sum(level_params)*2)"
   ]
  },
  {
   "cell_type": "code",
   "execution_count": 10,
   "id": "cb2f51c2-fae1-48a1-828b-eecb9835e182",
   "metadata": {},
   "outputs": [],
   "source": [
    "from sympy import *\n",
    "x, y, z = symbols(\"x y z\")\n",
    "\n",
    "Nl = Symbol('N_l')\n",
    "Nmin = Symbol('N_{min}')\n",
    "Nmax = Symbol('N_{max}')\n",
    "b = Symbol('b')\n",
    "L = Symbol('L')\n",
    "l = Symbol('l')"
   ]
  },
  {
   "cell_type": "code",
   "execution_count": 11,
   "id": "d793c0a6-b052-4b2f-bd82-bf887bb9211c",
   "metadata": {},
   "outputs": [
    {
     "data": {
      "text/latex": [
       "$\\displaystyle \\left\\lfloor{N_{min} b^{l}}\\right\\rfloor$"
      ],
      "text/plain": [
       "floor(N_{min}*b**l)"
      ]
     },
     "execution_count": 11,
     "metadata": {},
     "output_type": "execute_result"
    }
   ],
   "source": [
    "level_resolution = floor(Nmin * b ** l)\n",
    "level_resolution"
   ]
  },
  {
   "cell_type": "code",
   "execution_count": null,
   "id": "f7df02b6-9fe5-4eae-9f16-db0c057bce68",
   "metadata": {},
   "outputs": [],
   "source": []
  }
 ],
 "metadata": {
  "kernelspec": {
   "display_name": "Python 3 (ipykernel)",
   "language": "python",
   "name": "python3"
  },
  "language_info": {
   "codemirror_mode": {
    "name": "ipython",
    "version": 3
   },
   "file_extension": ".py",
   "mimetype": "text/x-python",
   "name": "python",
   "nbconvert_exporter": "python",
   "pygments_lexer": "ipython3",
   "version": "3.9.9"
  }
 },
 "nbformat": 4,
 "nbformat_minor": 5
}
