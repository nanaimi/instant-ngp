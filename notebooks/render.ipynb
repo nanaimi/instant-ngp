{
 "cells": [
  {
   "cell_type": "code",
   "execution_count": 1,
   "id": "f0035214-b11c-419d-8766-d598fae61885",
   "metadata": {},
   "outputs": [],
   "source": [
    "import sys\n",
    "import os\n",
    "import time\n",
    "import numpy as np\n",
    "import math\n",
    "\n",
    "pyngp_path = '/cluster/home/jpostels/nnaimi/instant-ngp/build'\n",
    "sys.path.append(pyngp_path)\n",
    "sys.path.append(os.path.abspath(\"/cluster/home/jpostels/nnaimi/instant-ngp/scripts\"))\n",
    "import pyngp as ngp\n",
    "from scenes import *"
   ]
  },
  {
   "cell_type": "code",
   "execution_count": 2,
   "id": "83b7da20-62bb-4901-991b-adb60be4a520",
   "metadata": {},
   "outputs": [
    {
     "name": "stdout",
     "output_type": "stream",
     "text": [
      "Mon Aug 21 10:28:04 2023       \n",
      "+-----------------------------------------------------------------------------+\n",
      "| NVIDIA-SMI 525.125.06   Driver Version: 525.125.06   CUDA Version: 12.0     |\n",
      "|-------------------------------+----------------------+----------------------+\n",
      "| GPU  Name        Persistence-M| Bus-Id        Disp.A | Volatile Uncorr. ECC |\n",
      "| Fan  Temp  Perf  Pwr:Usage/Cap|         Memory-Usage | GPU-Util  Compute M. |\n",
      "|                               |                      |               MIG M. |\n",
      "|===============================+======================+======================|\n",
      "|   0  NVIDIA GeForce ...  On   | 00000000:A1:00.0 Off |                  N/A |\n",
      "|  0%   28C    P8    41W / 370W |      1MiB / 24576MiB |      0%      Default |\n",
      "|                               |                      |                  N/A |\n",
      "+-------------------------------+----------------------+----------------------+\n",
      "                                                                               \n",
      "+-----------------------------------------------------------------------------+\n",
      "| Processes:                                                                  |\n",
      "|  GPU   GI   CI        PID   Type   Process name                  GPU Memory |\n",
      "|        ID   ID                                                   Usage      |\n",
      "|=============================================================================|\n",
      "|  No running processes found                                                 |\n",
      "+-----------------------------------------------------------------------------+\n"
     ]
    }
   ],
   "source": [
    "!nvidia-smi"
   ]
  },
  {
   "cell_type": "code",
   "execution_count": 3,
   "id": "fe29c0fb-5607-47ab-b1e7-5966f3a50659",
   "metadata": {},
   "outputs": [],
   "source": [
    "def get_scene(scene):\n",
    "    for scenes in [scenes_sdf, scenes_nerf, scenes_image, scenes_volume]:\n",
    "        if scene in scenes:\n",
    "            return scenes[scene]\n",
    "    return None"
   ]
  },
  {
   "cell_type": "code",
   "execution_count": 4,
   "id": "e49be1fb-1d77-4d2a-b68e-3daff589a562",
   "metadata": {},
   "outputs": [
    {
     "name": "stdout",
     "output_type": "stream",
     "text": [
      "\u001b[0m10:28:12 \u001b[0;32mSUCCESS  \u001b[0mInitialized CUDA. Active GPU is #0: NVIDIA GeForce RTX 3090 [86]\u001b[K\u001b[0m\n"
     ]
    }
   ],
   "source": [
    "# testbed = ngp.Testbed()\n",
    "testbed = ngp.Testbed()"
   ]
  },
  {
   "cell_type": "code",
   "execution_count": null,
   "id": "4abd1f38-6e91-48b5-850f-de16eb17b464",
   "metadata": {},
   "outputs": [],
   "source": [
    "snapshot = '/cluster/work/cvl/jpostels/nnaimi/data/kodim11-20230721-232433.ingp'\n",
    "# snapshot = '/cluster/work/cvl/jpostels/nnaimi/data/snapshot_8bit_params.ingp'"
   ]
  },
  {
   "cell_type": "code",
   "execution_count": null,
   "id": "c43e4388-1cfe-4833-925e-034322fd1683",
   "metadata": {},
   "outputs": [],
   "source": [
    "scene_info = get_scene(snapshot)\n",
    "if scene_info is not None:\n",
    "    args.load_snapshot = default_snapshot_filename(scene_info)\n",
    "testbed.load_snapshot(snapshot)"
   ]
  },
  {
   "cell_type": "code",
   "execution_count": null,
   "id": "c4873d0f-18fa-4851-90cb-76b6e3ff61be",
   "metadata": {},
   "outputs": [],
   "source": [
    "# scene_info_og = get_scene(testbed_og)\n",
    "# testbed_og.load_snapshot(snapshot_og)\n",
    "\n",
    "# scene_info = get_scene(snapshot)\n",
    "\n",
    "# testbed.load_snapshot(snapshot)\n",
    "\n",
    "# level_params = [testbed.n_encoding_level_params(l) for l in range(4)]\n",
    "# print(testbed.n_params())\n",
    "# print(level_params)"
   ]
  },
  {
   "cell_type": "code",
   "execution_count": null,
   "id": "67536202-9c8e-41ba-846d-b011c8a8cf0c",
   "metadata": {},
   "outputs": [],
   "source": [
    "??testbed.render"
   ]
  },
  {
   "cell_type": "code",
   "execution_count": null,
   "id": "0d9b84d9-206a-4bde-83dd-10a261e659cd",
   "metadata": {},
   "outputs": [],
   "source": [
    "# image rendering\n",
    "out_dir = \"/cluster/work/cvl/jpostels/nnaimi/data/\"\n",
    "out_name = \"image_8bits\"\n",
    "\n",
    "print(f\"Rendering {out_name}.png\")\n",
    "\n",
    "image = testbed.render(768, 512, 1, True)\n",
    "\n",
    "# write_image(out_dir + outname + \".png\", image)"
   ]
  },
  {
   "cell_type": "code",
   "execution_count": null,
   "id": "fcd699c2-5322-4e01-818d-49353d21661f",
   "metadata": {},
   "outputs": [],
   "source": [
    "??testbed"
   ]
  },
  {
   "cell_type": "code",
   "execution_count": null,
   "id": "d08c356c-5c08-4189-ac9f-3f556d41c8fa",
   "metadata": {},
   "outputs": [],
   "source": [
    "!echo $CUDA_VISIBLE_DEVICES"
   ]
  },
  {
   "cell_type": "code",
   "execution_count": null,
   "id": "d348a622-0f81-4167-b996-f17c41c74d91",
   "metadata": {},
   "outputs": [],
   "source": []
  }
 ],
 "metadata": {
  "kernelspec": {
   "display_name": "Python 3 (ipykernel)",
   "language": "python",
   "name": "python3"
  },
  "language_info": {
   "codemirror_mode": {
    "name": "ipython",
    "version": 3
   },
   "file_extension": ".py",
   "mimetype": "text/x-python",
   "name": "python",
   "nbconvert_exporter": "python",
   "pygments_lexer": "ipython3",
   "version": "3.9.9"
  }
 },
 "nbformat": 4,
 "nbformat_minor": 5
}
